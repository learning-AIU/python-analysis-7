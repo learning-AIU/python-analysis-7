{
  "nbformat": 4,
  "nbformat_minor": 0,
  "metadata": {
    "colab": {
      "provenance": []
    },
    "kernelspec": {
      "name": "python3",
      "display_name": "Python 3"
    },
    "language_info": {
      "name": "python"
    }
  },
  "cells": [
    {
      "cell_type": "markdown",
      "metadata": {
        "id": "gMwyKhlQJ1mf"
      },
      "source": [
        "## Задание 1"
      ]
    },
    {
      "cell_type": "markdown",
      "metadata": {
        "id": "YVguJJc1Mz51"
      },
      "source": [
        "**Условие:** \n",
        "Создайте массив ```ndarray``` размера ```(1000)``` элементов, взятых из нормального распределения с параметрами среднего $\\mu=0.0$ и среднеквадратичным отклонением $\\sigma=10.0$, используя модуль ```scipy.stats```. Найдите характерстики данной выборки, используя метод ```describe()```. Укажите значение среднего и дисперсии данной выборки.\n",
        "\n",
        "**Формат ответа:** \n",
        "Кортеж чисел (например, ```(3.8,10.2)```)"
      ]
    },
    {
      "cell_type": "markdown",
      "metadata": {
        "id": "OCTvo3fHLaaJ"
      },
      "source": [
        "**Решение:**"
      ]
    },
    {
      "cell_type": "code",
      "metadata": {
        "id": "f9_8IGndLeRO"
      },
      "source": [
        "# Ваше решение"
      ],
      "execution_count": null,
      "outputs": []
    },
    {
      "cell_type": "markdown",
      "metadata": {
        "id": "1NDovhhuX6Zy"
      },
      "source": [
        "## Задание 2"
      ]
    },
    {
      "cell_type": "markdown",
      "metadata": {
        "id": "cRYZGT0MX6Z7"
      },
      "source": [
        "**Условие:** \n",
        "Создайте два массива ```ndarray``` размера ```(1000)``` элементов каждый, взятых из нормальных распределений с параметрами среднего $\\mu=0.0$ и среднеквадратичным отклонением $\\sigma=10.0$ для первого массива и $\\mu=5.0$ и $\\sigma=5.0$ для второго. Найдите поэлементную сумму полученных массивов и ее характерстики, используя метод ```describe()```. Укажите найденные значения среднего и дисперсии.\n",
        "\n",
        "**Формат ответа:** \n",
        "Кортеж чисел (например, ```(1.8,10.2)```)"
      ]
    },
    {
      "cell_type": "markdown",
      "metadata": {
        "id": "UtC162u1X6aB"
      },
      "source": [
        "**Решение:**"
      ]
    },
    {
      "cell_type": "code",
      "metadata": {
        "id": "IbdmiEoRX6aJ"
      },
      "source": [
        "# Ваше решение"
      ],
      "execution_count": null,
      "outputs": []
    },
    {
      "cell_type": "markdown",
      "metadata": {
        "id": "C5rMoafA1PZQ"
      },
      "source": [
        "## Задание 3"
      ]
    },
    {
      "cell_type": "markdown",
      "metadata": {
        "id": "e7PLofcg1PZW"
      },
      "source": [
        "**Условие:** \n",
        "В рамках условий задания 2 проверьте является ли найденная сумма выборок, полученных по нормальному закону, реализацией некоторой нормально распределенной случайной величины (```stats.normaltest```). Если является (значение ```p-value``` больше ```80%```), то найдите ```p-value``` t-критерия Стьюдента для проверки гипотезы о том, что среднее по выборке равно теоретическому математическому ожиданию, значение которого равно ```5.0```. Если же гипотеза о нормальности распределения была отвергнута, то дайте ответ ```0.0```.\n",
        "\n",
        "**Формат ответа:** \n",
        "Число (например, ```0.75```)"
      ]
    },
    {
      "cell_type": "markdown",
      "metadata": {
        "id": "9KUyxyxA1PZZ"
      },
      "source": [
        "**Решение:**"
      ]
    },
    {
      "cell_type": "code",
      "metadata": {
        "id": "_a8tpcqV1PZb"
      },
      "source": [
        "# Ваше решение"
      ],
      "execution_count": null,
      "outputs": []
    },
    {
      "cell_type": "markdown",
      "metadata": {
        "id": "Lq7PThTJZn_E"
      },
      "source": [
        "## Задание 4"
      ]
    },
    {
      "cell_type": "markdown",
      "metadata": {
        "id": "KJM3w45-Zn_M"
      },
      "source": [
        "**Условие:** \n",
        "Найдите минимальное значение функции $f(x) = \\frac x {x^2+1}$ с использованием Nelder-Mead Simplex algorithm. Ответ дайте в виде координат точки минимума $(x_{min},y_{min})$.\n",
        "\n",
        "**Формат ответа:** \n",
        "Кортеж чисел (например, ```(0.75,-1)```)"
      ]
    },
    {
      "cell_type": "markdown",
      "metadata": {
        "id": "mAiJe0o3Zn_R"
      },
      "source": [
        "**Решение:**"
      ]
    },
    {
      "cell_type": "code",
      "metadata": {
        "id": "_5Fg5cFiZn_V"
      },
      "source": [
        "# Ваше решение"
      ],
      "execution_count": null,
      "outputs": []
    }
  ]
}