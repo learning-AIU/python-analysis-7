{
  "nbformat": 4,
  "nbformat_minor": 0,
  "metadata": {
    "colab": {
      "provenance": []
    },
    "kernelspec": {
      "name": "python3",
      "display_name": "Python 3"
    },
    "language_info": {
      "name": "python"
    }
  },
  "cells": [
    {
      "cell_type": "markdown",
      "metadata": {
        "id": "g5S0h2-wKfGE"
      },
      "source": [
        "## Задание 1"
      ]
    },
    {
      "cell_type": "markdown",
      "metadata": {
        "id": "orX7BUzcPKKf"
      },
      "source": [
        "**Условие:** \n",
        "С использованием модуля ```scipy.integrate``` найдите площадь фигуры, образованной при пересечении функций $f(x)=x$ и $g(x)=x^2$.\n",
        "(0, 1 - левые и правые пределы интегрирования)\n",
        "\n",
        "**Формат ответа:** \n",
        "Число (например, ```10.7```)"
      ]
    },
    {
      "cell_type": "markdown",
      "metadata": {
        "id": "ESSLfwqEPKKn"
      },
      "source": [
        "**Решение:**"
      ]
    },
    {
      "cell_type": "code",
      "metadata": {
        "id": "y8HOlaNLPKKq"
      },
      "source": [
        "# Ваше решение"
      ],
      "execution_count": null,
      "outputs": []
    },
    {
      "cell_type": "markdown",
      "metadata": {
        "id": "QzIBujF-RRXo"
      },
      "source": [
        "## Задание 2"
      ]
    },
    {
      "cell_type": "markdown",
      "metadata": {
        "id": "O4qAJPHgRRXy"
      },
      "source": [
        "**Условие:** \n",
        "Напишите функцию, которая получает на вход пару матриц и проверяет закон коммутативности умножения, то есть свойства $A*B=B*A$, возвращая ```1``` в случае подтверждения и ```0``` в противном случае. Поставьте ```100``` экспериментов для случайных целочисленных матриц размера ```(5,5)``` элементов, которые принадлежат отрезку ```[-5,5]``` и найдите количество успешных срабатываний.\n",
        "\n",
        "**Формат ответа:** \n",
        "Число (например, ```50```)"
      ]
    },
    {
      "cell_type": "markdown",
      "metadata": {
        "id": "4yDukAcVRRX2"
      },
      "source": [
        "**Решение:**"
      ]
    },
    {
      "cell_type": "code",
      "metadata": {
        "id": "bSZ6vORZRRX5"
      },
      "source": [
        "# Ваше решение"
      ],
      "execution_count": null,
      "outputs": []
    },
    {
      "cell_type": "markdown",
      "metadata": {
        "id": "C5rMoafA1PZQ"
      },
      "source": [
        "## Задание 3"
      ]
    },
    {
      "cell_type": "markdown",
      "metadata": {
        "id": "e7PLofcg1PZW"
      },
      "source": [
        "**Условие**: Сравните скорость выполнения (%timeit) операции умножения целочисленных матриц типа np.array и np.mat одинакового размера (100,100). Дайте ответ в формате: \n",
        "* 0 - быстрее при использовании массивов типа np.ndarray\n",
        "* 1 - быстрее при использовании массивов типа np.mat.\n",
        "\n",
        "**Формат ответа**: Число (например, 0)"
      ]
    },
    {
      "cell_type": "markdown",
      "metadata": {
        "id": "9KUyxyxA1PZZ"
      },
      "source": [
        "**Решение:**"
      ]
    },
    {
      "cell_type": "code",
      "metadata": {
        "id": "_a8tpcqV1PZb"
      },
      "source": [
        "# Ваше решение"
      ],
      "execution_count": null,
      "outputs": []
    },
    {
      "cell_type": "markdown",
      "metadata": {
        "id": "7pvHwZJpSldi"
      },
      "source": [
        "## Задание 4"
      ]
    },
    {
      "cell_type": "markdown",
      "metadata": {
        "id": "vnGwWrOmSldm"
      },
      "source": [
        "**Условие:** \n",
        "С использованием модуля ```scipy.integrate``` найдите площадь фигуры, ограниченную графиком функции $f(x)=\\sqrt{1-x^2}$ и осью абсцисс. Проверьте результат на основе формулы площади полукруга.\n",
        "\n",
        "**Формат ответа:** \n",
        "Число (например, ```10.7```)"
      ]
    },
    {
      "cell_type": "markdown",
      "metadata": {
        "id": "GLd7Z08OSldp"
      },
      "source": [
        "**Решение:**"
      ]
    },
    {
      "cell_type": "code",
      "metadata": {
        "id": "LfI6j4QsSlds"
      },
      "source": [
        "# Ваше решение"
      ],
      "execution_count": null,
      "outputs": []
    }
  ]
}